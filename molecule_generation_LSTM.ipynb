{
  "nbformat": 4,
  "nbformat_minor": 0,
  "metadata": {
    "colab": {
      "provenance": [],
      "gpuType": "T4"
    },
    "kernelspec": {
      "name": "python3",
      "display_name": "Python 3"
    },
    "language_info": {
      "name": "python"
    },
    "accelerator": "GPU",
    "gpuClass": "standard"
  },
  "cells": [
    {
      "cell_type": "code",
      "execution_count": null,
      "metadata": {
        "colab": {
          "base_uri": "https://localhost:8080/"
        },
        "id": "HaHIP9q6kLpf",
        "outputId": "dacfb981-a608-4082-f4eb-8800e5b4d537"
      },
      "outputs": [
        {
          "output_type": "stream",
          "name": "stdout",
          "text": [
            "Colab only includes TensorFlow 2.x; %tensorflow_version has no effect.\n",
            "TensorFlow version: 2.12.0\n"
          ]
        }
      ],
      "source": [
        "# import core libraries\n",
        "import sys\n",
        "import os\n",
        "import pandas as pd\n",
        "import numpy as np\n",
        "import json\n",
        "from sklearn.model_selection import train_test_split\n",
        "import random as rn\n",
        "import matplotlib.pyplot as plt\n",
        "%matplotlib inline\n",
        "\n",
        "%tensorflow_version 2.x\n",
        "import tensorflow as tf\n",
        "print(\"TensorFlow version:\", tf.__version__)"
      ]
    },
    {
      "cell_type": "code",
      "source": [
        "# load Keras libraries|\n",
        "from tensorflow.keras.models import Model\n",
        "from tensorflow.keras.layers import Input, LSTM, Dense, Dropout, Concatenate\n",
        "from tensorflow.keras.initializers import RandomNormal\n",
        "from tensorflow.keras import regularizers\n",
        "from tensorflow.keras.optimizers import Adam\n",
        "from tensorflow.keras.callbacks import ReduceLROnPlateau, ModelCheckpoint, TensorBoard\n",
        "from tensorflow.keras.utils import Sequence"
      ],
      "metadata": {
        "id": "dVPk2_BWkPf1"
      },
      "execution_count": null,
      "outputs": []
    },
    {
      "cell_type": "code",
      "source": [
        "# enable GPU processing\n",
        "device_name = tf.test.gpu_device_name()\n",
        "if device_name != '/device:GPU:0':\n",
        "  raise SystemError('GPU device not found')\n",
        "print('Found GPU at: {}'.format(device_name))\n",
        "gpu_info = !nvidia-smi\n",
        "gpu_info = '\\n'.join(gpu_info)\n",
        "if gpu_info.find('failed') >= 0:\n",
        "  print('Select the Runtime → \"Change runtime type\" menu to enable a GPU accelerator, ')\n",
        "  print('and then re-execute this cell.')\n",
        "else:\n",
        "  print(gpu_info)"
      ],
      "metadata": {
        "colab": {
          "base_uri": "https://localhost:8080/"
        },
        "id": "5g-fwtlRUQG5",
        "outputId": "113b3713-4f7b-43a7-edfa-45919fa6ced1"
      },
      "execution_count": null,
      "outputs": [
        {
          "output_type": "stream",
          "name": "stdout",
          "text": [
            "Found GPU at: /device:GPU:0\n",
            "Sun Apr 30 06:12:09 2023       \n",
            "+-----------------------------------------------------------------------------+\n",
            "| NVIDIA-SMI 525.85.12    Driver Version: 525.85.12    CUDA Version: 12.0     |\n",
            "|-------------------------------+----------------------+----------------------+\n",
            "| GPU  Name        Persistence-M| Bus-Id        Disp.A | Volatile Uncorr. ECC |\n",
            "| Fan  Temp  Perf  Pwr:Usage/Cap|         Memory-Usage | GPU-Util  Compute M. |\n",
            "|                               |                      |               MIG M. |\n",
            "|===============================+======================+======================|\n",
            "|   0  Tesla T4            Off  | 00000000:00:04.0 Off |                    0 |\n",
            "| N/A   59C    P0    29W /  70W |    373MiB / 15360MiB |      1%      Default |\n",
            "|                               |                      |                  N/A |\n",
            "+-------------------------------+----------------------+----------------------+\n",
            "                                                                               \n",
            "+-----------------------------------------------------------------------------+\n",
            "| Processes:                                                                  |\n",
            "|  GPU   GI   CI        PID   Type   Process name                  GPU Memory |\n",
            "|        ID   ID                                                   Usage      |\n",
            "|=============================================================================|\n",
            "+-----------------------------------------------------------------------------+\n"
          ]
        }
      ]
    },
    {
      "cell_type": "code",
      "source": [
        "# set random seed\n",
        "seed = 777\n",
        "np.random.seed(seed)\n",
        "rn.seed(seed)"
      ],
      "metadata": {
        "id": "17w01zTtkYQE"
      },
      "execution_count": null,
      "outputs": []
    },
    {
      "cell_type": "code",
      "source": [
        "# mount Google Drive\n",
        "from google.colab import drive\n",
        "drive.mount('/drive')"
      ],
      "metadata": {
        "colab": {
          "base_uri": "https://localhost:8080/"
        },
        "id": "lI6Huz9ilOAQ",
        "outputId": "55895148-33d1-4548-948c-2956e18f358a"
      },
      "execution_count": null,
      "outputs": [
        {
          "output_type": "stream",
          "name": "stdout",
          "text": [
            "Mounted at /drive\n"
          ]
        }
      ]
    },
    {
      "cell_type": "code",
      "source": [
        "# create data load functions\n",
        "def load_data(data):\n",
        "    with open(data, 'r') as f:\n",
        "        smiles = [r.rstrip() for r in f]\n",
        "    return np.array(smiles)\n",
        "\n",
        "def load_dictionaries(input_dict):\n",
        "    with open(input_dict, 'r') as fp:\n",
        "        new_dict = json.load(fp)\n",
        "    return new_dict"
      ],
      "metadata": {
        "id": "Y8xrFtIOlS8-"
      },
      "execution_count": null,
      "outputs": []
    },
    {
      "cell_type": "code",
      "source": [
        "# load dataset & break into train/test sets\n",
        "smifile = '/drive/My Drive/chem_data/smiles_cleaned.smi'\n",
        "data = load_data(smifile)\n",
        "full_train, test = train_test_split(data, test_size=0.2, random_state=seed)\n",
        "print(\"Training smiles shape:\", full_train.shape)\n",
        "print(\"Test smiles shape:\", test.shape)\n",
        "print(\"Sample training smile: \\n\", full_train[2])"
      ],
      "metadata": {
        "colab": {
          "base_uri": "https://localhost:8080/"
        },
        "id": "Z679uGGSlcUB",
        "outputId": "98060d34-7a6f-4610-c8ba-ec3a44b95282"
      },
      "execution_count": null,
      "outputs": [
        {
          "output_type": "stream",
          "name": "stdout",
          "text": [
            "Training smiles shape: (351278,)\n",
            "Test smiles shape: (87820,)\n",
            "Sample training smile: \n",
            " Cc1cc(Oc2ccc(-c3nc4cc(C(N)=O)ccc4[nH]3)cc2)ccc1F\n"
          ]
        }
      ]
    },
    {
      "cell_type": "code",
      "source": [
        "# save test file for smile generation\n",
        "np.save('/drive/My Drive/chem_data/test.npy', test)\n",
        "print('Test file saved to disk')"
      ],
      "metadata": {
        "colab": {
          "base_uri": "https://localhost:8080/"
        },
        "id": "XP9AB7YfqRCr",
        "outputId": "58a41f85-a000-489d-b721-7e1879638742"
      },
      "execution_count": null,
      "outputs": [
        {
          "output_type": "stream",
          "name": "stdout",
          "text": [
            "Test file saved to disk\n"
          ]
        }
      ]
    },
    {
      "cell_type": "code",
      "source": [
        "# create our validation dataset\n",
        "val_split = 0.10\n",
        "train, val_set = train_test_split(full_train, test_size=val_split, random_state=seed)\n",
        "print(\"Training dataset shape:\", train.shape)\n",
        "print(\"Validation dataset shape:\", val_set.shape)"
      ],
      "metadata": {
        "colab": {
          "base_uri": "https://localhost:8080/"
        },
        "id": "6rrMJoHwu9Kj",
        "outputId": "09f45ab7-280c-4a27-854a-d9f74bd8d32b"
      },
      "execution_count": null,
      "outputs": [
        {
          "output_type": "stream",
          "name": "stdout",
          "text": [
            "Training dataset shape: (316150,)\n",
            "Validation dataset shape: (35128,)\n"
          ]
        }
      ]
    },
    {
      "cell_type": "code",
      "source": [
        "# load the Python dictionaries that map characters-to-integers and intergers-to-characters\n",
        "d1 = '/drive/My Drive/chem_data/char_to_int.json'\n",
        "d2 = '/drive/My Drive/chem_data/int_to_char.json'\n",
        "char_to_int = load_dictionaries(d1)\n",
        "int_to_char = load_dictionaries(d2)\n",
        "n_vocab = len(char_to_int)\n",
        "print(\"Character set vocabulary length:\", n_vocab)\n",
        "print(\"Dictionary mapping characters-to-integers:\\n\", char_to_int)\n",
        "print(\"Dictionary mapping integers-to-characters:\\n\", int_to_char)"
      ],
      "metadata": {
        "colab": {
          "base_uri": "https://localhost:8080/"
        },
        "id": "j1UWbv9AvCBp",
        "outputId": "effe49bc-5558-46bf-903e-087f5401a8cc"
      },
      "execution_count": null,
      "outputs": [
        {
          "output_type": "stream",
          "name": "stdout",
          "text": [
            "Character set vocabulary length: 45\n",
            "Dictionary mapping characters-to-integers:\n",
            " {'n': 0, '[': 1, '\\\\': 2, 'E': 3, 'H': 4, ')': 5, 'B': 6, '9': 7, '2': 8, ']': 9, '7': 10, '!': 11, 't': 12, 's': 13, 'o': 14, 'c': 15, 'K': 16, '-': 17, '/': 18, 'l': 19, 'A': 20, 'r': 21, '@': 22, 'C': 23, '=': 24, '6': 25, 'N': 26, 'L': 27, 'a': 28, '5': 29, 'S': 30, 'T': 31, '#': 32, '+': 33, 'P': 34, 'i': 35, '(': 36, '8': 37, '1': 38, 'I': 39, 'e': 40, 'O': 41, '3': 42, 'F': 43, '4': 44}\n",
            "Dictionary mapping integers-to-characters:\n",
            " {'0': 'n', '1': '[', '2': '\\\\', '3': 'E', '4': 'H', '5': ')', '6': 'B', '7': '9', '8': '2', '9': ']', '10': '7', '11': '!', '12': 't', '13': 's', '14': 'o', '15': 'c', '16': 'K', '17': '-', '18': '/', '19': 'l', '20': 'A', '21': 'r', '22': '@', '23': 'C', '24': '=', '25': '6', '26': 'N', '27': 'L', '28': 'a', '29': '5', '30': 'S', '31': 'T', '32': '#', '33': '+', '34': 'P', '35': 'i', '36': '(', '37': '8', '38': '1', '39': 'I', '40': 'e', '41': 'O', '42': '3', '43': 'F', '44': '4'}\n"
          ]
        }
      ]
    },
    {
      "cell_type": "code",
      "source": [
        "# create a function to turn the dataset into a supervised problem, add the beginning and ending character markers,\n",
        "# add padding for constant sequence length, and turn the sequence into a sequence of one-hot vectors\n",
        "def vectorize(smiles, embed, n_vocab):\n",
        "    one_hot = np.zeros((smiles.shape[0], embed, n_vocab), dtype=np.int8)\n",
        "    for i, smile in enumerate(smiles):\n",
        "        # encode the start\n",
        "        one_hot[i,0,char_to_int[\"!\"]] = 1\n",
        "        #encode the smiles characters\n",
        "        for j, c in enumerate(smile):\n",
        "            one_hot[i,j+1,char_to_int[c]] = 1\n",
        "        # encode the end of the smiles string\n",
        "        one_hot[i,len(smile)+1:,char_to_int[\"E\"]] = 1\n",
        "    # return two items, one for input and one for output\n",
        "    return one_hot[:,0:-1,:], one_hot[:,1:,:]"
      ],
      "metadata": {
        "id": "qPOGn2_yvPb4"
      },
      "execution_count": null,
      "outputs": []
    },
    {
      "cell_type": "code",
      "source": [
        "# create our X & y datasets\n",
        "embed = 101\n",
        "X_train, y_train = vectorize(train, embed, n_vocab)\n",
        "X_val, y_val = vectorize(val_set, embed, n_vocab)\n",
        "X_test, y_test = vectorize(test, embed, n_vocab)\n",
        "print(\"Training input shape:\", X_train.shape)\n",
        "print(\"Training output shape:\", y_train.shape)\n",
        "print(\"Validation input shape:\", X_val.shape)\n",
        "print(\"Validation output shape:\", y_val.shape)\n",
        "print(\"Test input shape:\", X_test.shape)\n",
        "print(\"Test output shape:\", y_test.shape)"
      ],
      "metadata": {
        "colab": {
          "base_uri": "https://localhost:8080/"
        },
        "id": "iSKxWy2uvtrD",
        "outputId": "160a4bc0-0c40-4f47-ace1-0d325d36f6e2"
      },
      "execution_count": null,
      "outputs": [
        {
          "output_type": "stream",
          "name": "stdout",
          "text": [
            "Training input shape: (316150, 100, 45)\n",
            "Training output shape: (316150, 100, 45)\n",
            "Validation input shape: (35128, 100, 45)\n",
            "Validation output shape: (35128, 100, 45)\n",
            "Test input shape: (87820, 100, 45)\n",
            "Test output shape: (87820, 100, 45)\n"
          ]
        }
      ]
    },
    {
      "cell_type": "code",
      "source": [
        "\"\".join([int_to_char[str(idx)] for idx in np.argmax(X_train[0,:,:], axis=1)])"
      ],
      "metadata": {
        "colab": {
          "base_uri": "https://localhost:8080/",
          "height": 36
        },
        "id": "vQ-G6isLvy3m",
        "outputId": "f6d86894-d161-49d6-f14d-ce4a32c3a539"
      },
      "execution_count": null,
      "outputs": [
        {
          "output_type": "execute_result",
          "data": {
            "text/plain": [
              "'!O=c1ccc(OCCCN2CCN(c3csc4ccccc34)CC2)nn1-c1ccc(Cl)c(Cl)c1EEEEEEEEEEEEEEEEEEEEEEEEEEEEEEEEEEEEEEEEEEE'"
            ],
            "application/vnd.google.colaboratory.intrinsic+json": {
              "type": "string"
            }
          },
          "metadata": {},
          "execution_count": 13
        }
      ]
    },
    {
      "cell_type": "code",
      "source": [
        "# define the LSTM Chem model\n",
        "def lstm_model(X, y):\n",
        "    # define the encoder layers\n",
        "    enc_input = Input(shape=(X.shape[1:]))\n",
        "    _, state_h, state_c = LSTM(256, return_state=True)(enc_input)\n",
        "    states = Concatenate(axis=-1)([state_h, state_c])\n",
        "    neck_out = Dense(128, activation='relu')(states)\n",
        "\n",
        "    # define the decoder layers\n",
        "    state_h_decoded = Dense(256, activation='relu')(neck_out)\n",
        "    state_c_decoded = Dense(256, activation='relu')(neck_out)\n",
        "    encoder_states = [state_h_decoded, state_c_decoded]\n",
        "    dec_input = Input(shape=(X.shape[1:]))\n",
        "    dec1 = LSTM(256, return_sequences=True)(dec_input, initial_state=encoder_states)\n",
        "    output = Dense(y.shape[2], activation='softmax')(dec1)\n",
        "\n",
        "    model = Model(inputs=[enc_input, dec_input], outputs=output)\n",
        "    return model"
      ],
      "metadata": {
        "id": "MdCnYK1QwEct"
      },
      "execution_count": null,
      "outputs": []
    },
    {
      "cell_type": "code",
      "source": [
        "# instantiate our neural network model\n",
        "model = lstm_model(X_train, y_train)\n",
        "model.summary()"
      ],
      "metadata": {
        "colab": {
          "base_uri": "https://localhost:8080/"
        },
        "id": "v7wQQ98AwJoi",
        "outputId": "582ef1f3-172b-457c-d93d-115ca8e5ee90"
      },
      "execution_count": null,
      "outputs": [
        {
          "output_type": "stream",
          "name": "stdout",
          "text": [
            "Model: \"model\"\n",
            "__________________________________________________________________________________________________\n",
            " Layer (type)                   Output Shape         Param #     Connected to                     \n",
            "==================================================================================================\n",
            " input_1 (InputLayer)           [(None, 100, 45)]    0           []                               \n",
            "                                                                                                  \n",
            " lstm (LSTM)                    [(None, 256),        309248      ['input_1[0][0]']                \n",
            "                                 (None, 256),                                                     \n",
            "                                 (None, 256)]                                                     \n",
            "                                                                                                  \n",
            " concatenate (Concatenate)      (None, 512)          0           ['lstm[0][1]',                   \n",
            "                                                                  'lstm[0][2]']                   \n",
            "                                                                                                  \n",
            " dense (Dense)                  (None, 128)          65664       ['concatenate[0][0]']            \n",
            "                                                                                                  \n",
            " input_2 (InputLayer)           [(None, 100, 45)]    0           []                               \n",
            "                                                                                                  \n",
            " dense_1 (Dense)                (None, 256)          33024       ['dense[0][0]']                  \n",
            "                                                                                                  \n",
            " dense_2 (Dense)                (None, 256)          33024       ['dense[0][0]']                  \n",
            "                                                                                                  \n",
            " lstm_1 (LSTM)                  (None, 100, 256)     309248      ['input_2[0][0]',                \n",
            "                                                                  'dense_1[0][0]',                \n",
            "                                                                  'dense_2[0][0]']                \n",
            "                                                                                                  \n",
            " dense_3 (Dense)                (None, 100, 45)      11565       ['lstm_1[0][0]']                 \n",
            "                                                                                                  \n",
            "==================================================================================================\n",
            "Total params: 761,773\n",
            "Trainable params: 761,773\n",
            "Non-trainable params: 0\n",
            "__________________________________________________________________________________________________\n"
          ]
        }
      ]
    },
    {
      "cell_type": "code",
      "source": [
        "# compile the model\n",
        "batch_size = 256\n",
        "steps_per_epoch = len(X_train) // batch_size\n",
        "lr_schedule = tf.keras.optimizers.schedules.InverseTimeDecay(0.001, decay_steps=steps_per_epoch*50, decay_rate=1.0, staircase=False)\n",
        "opt = Adam()\n",
        "model.compile(optimizer=opt, loss='categorical_crossentropy', metrics=['acc'])"
      ],
      "metadata": {
        "id": "1ELSfDYlwORz"
      },
      "execution_count": null,
      "outputs": []
    },
    {
      "cell_type": "code",
      "source": [
        "# define our data sequence generator class\n",
        "class Data_Generator(Sequence):\n",
        "    def __init__(self, input_data, labels, batch_size):\n",
        "        self.input_data, self.labels = input_data, labels\n",
        "        self.batch_size = batch_size\n",
        "\n",
        "    def __len__(self):\n",
        "        return int(np.ceil(len(self.input_data) / float(self.batch_size)))\n",
        "\n",
        "    def __getitem__(self, idx):\n",
        "        x = self.input_data[idx * self.batch_size:(idx + 1) * self.batch_size]\n",
        "        y = self.labels[idx * self.batch_size:(idx + 1) * self.batch_size]\n",
        "\n",
        "        batch_x, batch_y = np.array(x), np.array(y)\n",
        "\n",
        "        return [batch_x, batch_x], batch_y"
      ],
      "metadata": {
        "id": "KoBg8amWwVLN"
      },
      "execution_count": null,
      "outputs": []
    },
    {
      "cell_type": "code",
      "source": [
        "# create object instances of our sequence generator\n",
        "training_generator = Data_Generator(X_train, y_train, batch_size)\n",
        "validation_generator = Data_Generator(X_val, y_val, batch_size)"
      ],
      "metadata": {
        "id": "nczZXIm2wYL-"
      },
      "execution_count": null,
      "outputs": []
    },
    {
      "cell_type": "code",
      "source": [
        "\n",
        "# create our callbacks\n",
        "file=\"/drive/My Drive/chem_data/LSTM_Chem_weights-{epoch:02d}-{acc:.4f}-{val_loss:.4f}.hdf5\"\n",
        "checkpoint = ModelCheckpoint(file, monitor='val_loss', verbose=1, save_best_only=True, save_weights_only=True, mode='min')\n",
        "rlrp = ReduceLROnPlateau(monitor='val_loss', factor=0.5, patience=10, min_lr=1e-5)\n",
        "tb = TensorBoard(log_dir=\"/drive/My Drive/logs/chem/\", histogram_freq=1, write_graph=True, write_images=True)"
      ],
      "metadata": {
        "id": "gL9wJGxhBN6k"
      },
      "execution_count": null,
      "outputs": []
    },
    {
      "cell_type": "code",
      "source": [
        "# fit the model\n",
        "nb_epochs = 225\n",
        "validation_steps = len(X_val) // batch_size\n",
        "history = model.fit(training_generator, steps_per_epoch=steps_per_epoch, epochs=nb_epochs, verbose=1,\n",
        "                              validation_data=validation_generator, validation_steps=validation_steps,\n",
        "\n",
        "                             use_multiprocessing=False, shuffle=True, callbacks=[])"
      ],
      "metadata": {
        "colab": {
          "base_uri": "https://localhost:8080/"
        },
        "id": "kMKYx9qSwcHd",
        "outputId": "224d790f-5cdf-48af-b535-766176199767"
      },
      "execution_count": null,
      "outputs": [
        {
          "output_type": "stream",
          "name": "stdout",
          "text": [
            "Epoch 1/225\n",
            "1234/1234 [==============================] - 73s 51ms/step - loss: 0.8201 - acc: 0.7450 - val_loss: 0.5690 - val_acc: 0.8120\n",
            "Epoch 2/225\n",
            "1234/1234 [==============================] - 63s 51ms/step - loss: 0.5066 - acc: 0.8293 - val_loss: 0.4623 - val_acc: 0.8420\n",
            "Epoch 3/225\n",
            "1234/1234 [==============================] - 60s 49ms/step - loss: 0.4384 - acc: 0.8486 - val_loss: 0.4101 - val_acc: 0.8574\n",
            "Epoch 4/225\n",
            "1234/1234 [==============================] - 60s 49ms/step - loss: 0.3881 - acc: 0.8649 - val_loss: 0.3707 - val_acc: 0.8703\n",
            "Epoch 5/225\n",
            "1234/1234 [==============================] - 63s 51ms/step - loss: 0.3590 - acc: 0.8743 - val_loss: 0.3477 - val_acc: 0.8779\n",
            "Epoch 6/225\n",
            "1234/1234 [==============================] - 61s 49ms/step - loss: 0.3403 - acc: 0.8804 - val_loss: 0.3345 - val_acc: 0.8817\n",
            "Epoch 7/225\n",
            "1234/1234 [==============================] - 63s 51ms/step - loss: 0.3255 - acc: 0.8856 - val_loss: 0.3174 - val_acc: 0.8882\n",
            "Epoch 8/225\n",
            "1234/1234 [==============================] - 60s 48ms/step - loss: 0.3060 - acc: 0.8929 - val_loss: 0.2975 - val_acc: 0.8958\n",
            "Epoch 9/225\n",
            "1234/1234 [==============================] - 60s 48ms/step - loss: 0.2943 - acc: 0.8974 - val_loss: 0.2872 - val_acc: 0.8999\n",
            "Epoch 10/225\n",
            "1234/1234 [==============================] - 60s 49ms/step - loss: 0.2806 - acc: 0.9025 - val_loss: 0.2775 - val_acc: 0.9038\n",
            "Epoch 11/225\n",
            "1234/1234 [==============================] - 63s 51ms/step - loss: 0.2673 - acc: 0.9073 - val_loss: 0.2717 - val_acc: 0.9065\n",
            "Epoch 12/225\n",
            "1234/1234 [==============================] - 62s 50ms/step - loss: 0.2550 - acc: 0.9118 - val_loss: 0.2488 - val_acc: 0.9141\n",
            "Epoch 13/225\n",
            "1234/1234 [==============================] - 61s 49ms/step - loss: 0.2446 - acc: 0.9155 - val_loss: 0.2415 - val_acc: 0.9167\n",
            "Epoch 14/225\n",
            "1234/1234 [==============================] - 60s 48ms/step - loss: 0.2366 - acc: 0.9184 - val_loss: 0.2359 - val_acc: 0.9186\n",
            "Epoch 15/225\n",
            "1234/1234 [==============================] - 63s 51ms/step - loss: 0.2269 - acc: 0.9219 - val_loss: 0.2244 - val_acc: 0.9228\n",
            "Epoch 16/225\n",
            "1234/1234 [==============================] - 61s 49ms/step - loss: 0.2165 - acc: 0.9254 - val_loss: 0.2150 - val_acc: 0.9259\n",
            "Epoch 17/225\n",
            "1234/1234 [==============================] - 60s 49ms/step - loss: 0.2061 - acc: 0.9289 - val_loss: 0.2001 - val_acc: 0.9311\n",
            "Epoch 18/225\n",
            "1234/1234 [==============================] - 60s 49ms/step - loss: 0.1947 - acc: 0.9329 - val_loss: 0.1892 - val_acc: 0.9350\n",
            "Epoch 19/225\n",
            "1234/1234 [==============================] - 60s 49ms/step - loss: 0.1832 - acc: 0.9369 - val_loss: 0.1799 - val_acc: 0.9383\n",
            "Epoch 20/225\n",
            "1234/1234 [==============================] - 60s 49ms/step - loss: 0.1749 - acc: 0.9398 - val_loss: 0.1732 - val_acc: 0.9403\n",
            "Epoch 21/225\n",
            "1234/1234 [==============================] - 62s 51ms/step - loss: 0.1673 - acc: 0.9426 - val_loss: 0.1716 - val_acc: 0.9410\n",
            "Epoch 22/225\n",
            "1234/1234 [==============================] - 63s 51ms/step - loss: 0.1588 - acc: 0.9456 - val_loss: 0.1552 - val_acc: 0.9474\n",
            "Epoch 23/225\n",
            "1234/1234 [==============================] - 61s 49ms/step - loss: 0.1512 - acc: 0.9483 - val_loss: 0.1549 - val_acc: 0.9468\n",
            "Epoch 24/225\n",
            "1234/1234 [==============================] - 62s 51ms/step - loss: 0.1439 - acc: 0.9509 - val_loss: 0.1407 - val_acc: 0.9522\n",
            "Epoch 25/225\n",
            "1234/1234 [==============================] - 63s 51ms/step - loss: 0.1376 - acc: 0.9531 - val_loss: 0.1382 - val_acc: 0.9533\n",
            "Epoch 26/225\n",
            "1234/1234 [==============================] - 60s 49ms/step - loss: 0.1316 - acc: 0.9553 - val_loss: 0.1322 - val_acc: 0.9553\n",
            "Epoch 27/225\n",
            "1234/1234 [==============================] - 60s 49ms/step - loss: 0.1263 - acc: 0.9572 - val_loss: 0.1276 - val_acc: 0.9566\n",
            "Epoch 28/225\n",
            "1234/1234 [==============================] - 62s 50ms/step - loss: 0.1213 - acc: 0.9590 - val_loss: 0.1239 - val_acc: 0.9581\n",
            "Epoch 29/225\n",
            "1234/1234 [==============================] - 61s 49ms/step - loss: 0.1162 - acc: 0.9607 - val_loss: 0.1138 - val_acc: 0.9621\n",
            "Epoch 30/225\n",
            "1234/1234 [==============================] - 60s 49ms/step - loss: 0.1105 - acc: 0.9627 - val_loss: 0.1137 - val_acc: 0.9614\n",
            "Epoch 31/225\n",
            "1234/1234 [==============================] - 63s 51ms/step - loss: 0.1053 - acc: 0.9645 - val_loss: 0.1097 - val_acc: 0.9629\n",
            "Epoch 32/225\n",
            "1234/1234 [==============================] - 61s 49ms/step - loss: 0.1008 - acc: 0.9661 - val_loss: 0.1151 - val_acc: 0.9615\n",
            "Epoch 33/225\n",
            "1234/1234 [==============================] - 60s 48ms/step - loss: 0.0952 - acc: 0.9680 - val_loss: 0.0914 - val_acc: 0.9696\n",
            "Epoch 34/225\n",
            "1234/1234 [==============================] - 62s 51ms/step - loss: 0.0911 - acc: 0.9694 - val_loss: 0.0944 - val_acc: 0.9682\n",
            "Epoch 35/225\n",
            "1234/1234 [==============================] - 63s 51ms/step - loss: 0.0861 - acc: 0.9711 - val_loss: 0.0910 - val_acc: 0.9694\n",
            "Epoch 36/225\n",
            "1234/1234 [==============================] - 61s 49ms/step - loss: 0.0825 - acc: 0.9724 - val_loss: 0.0823 - val_acc: 0.9727\n",
            "Epoch 37/225\n",
            "1234/1234 [==============================] - 60s 49ms/step - loss: 0.0779 - acc: 0.9739 - val_loss: 0.0789 - val_acc: 0.9738\n",
            "Epoch 38/225\n",
            "1234/1234 [==============================] - 61s 49ms/step - loss: 0.0752 - acc: 0.9749 - val_loss: 0.0749 - val_acc: 0.9751\n",
            "Epoch 39/225\n",
            "1234/1234 [==============================] - 60s 49ms/step - loss: 0.0709 - acc: 0.9764 - val_loss: 0.0705 - val_acc: 0.9767\n",
            "Epoch 40/225\n",
            "1234/1234 [==============================] - 61s 49ms/step - loss: 0.0676 - acc: 0.9774 - val_loss: 0.0689 - val_acc: 0.9772\n",
            "Epoch 41/225\n",
            "1234/1234 [==============================] - 60s 49ms/step - loss: 0.0664 - acc: 0.9780 - val_loss: 0.0631 - val_acc: 0.9792\n",
            "Epoch 42/225\n",
            "1234/1234 [==============================] - 61s 49ms/step - loss: 0.0653 - acc: 0.9784 - val_loss: 0.0668 - val_acc: 0.9778\n",
            "Epoch 43/225\n",
            "1234/1234 [==============================] - 63s 51ms/step - loss: 0.0586 - acc: 0.9805 - val_loss: 0.0572 - val_acc: 0.9814\n",
            "Epoch 44/225\n",
            "1234/1234 [==============================] - 60s 48ms/step - loss: 0.0574 - acc: 0.9809 - val_loss: 0.0670 - val_acc: 0.9776\n",
            "Epoch 45/225\n",
            "1234/1234 [==============================] - 63s 51ms/step - loss: 0.0543 - acc: 0.9820 - val_loss: 0.0606 - val_acc: 0.9798\n",
            "Epoch 46/225\n",
            "1234/1234 [==============================] - 63s 51ms/step - loss: 0.0535 - acc: 0.9823 - val_loss: 0.0513 - val_acc: 0.9834\n",
            "Epoch 47/225\n",
            "1234/1234 [==============================] - 63s 51ms/step - loss: 0.0513 - acc: 0.9830 - val_loss: 0.0556 - val_acc: 0.9816\n",
            "Epoch 48/225\n",
            "1234/1234 [==============================] - 61s 49ms/step - loss: 0.0488 - acc: 0.9838 - val_loss: 0.0515 - val_acc: 0.9831\n",
            "Epoch 49/225\n",
            "1234/1234 [==============================] - 62s 50ms/step - loss: 0.0471 - acc: 0.9844 - val_loss: 0.0485 - val_acc: 0.9841\n",
            "Epoch 50/225\n",
            "1234/1234 [==============================] - 61s 49ms/step - loss: 0.0465 - acc: 0.9847 - val_loss: 0.0498 - val_acc: 0.9836\n",
            "Epoch 51/225\n",
            "1234/1234 [==============================] - 61s 49ms/step - loss: 0.0438 - acc: 0.9855 - val_loss: 0.0478 - val_acc: 0.9843\n",
            "Epoch 52/225\n",
            "1234/1234 [==============================] - 60s 48ms/step - loss: 0.0445 - acc: 0.9853 - val_loss: 0.0438 - val_acc: 0.9858\n",
            "Epoch 53/225\n",
            "1234/1234 [==============================] - 63s 51ms/step - loss: 0.0399 - acc: 0.9868 - val_loss: 0.0422 - val_acc: 0.9863\n",
            "Epoch 54/225\n",
            "1234/1234 [==============================] - 61s 49ms/step - loss: 0.0404 - acc: 0.9867 - val_loss: 0.0457 - val_acc: 0.9849\n",
            "Epoch 55/225\n",
            "1234/1234 [==============================] - 62s 50ms/step - loss: 0.0388 - acc: 0.9872 - val_loss: 0.0404 - val_acc: 0.9869\n",
            "Epoch 56/225\n",
            "1234/1234 [==============================] - 63s 51ms/step - loss: 0.0373 - acc: 0.9877 - val_loss: 0.0676 - val_acc: 0.9786\n",
            "Epoch 57/225\n",
            "1234/1234 [==============================] - 63s 51ms/step - loss: 0.0390 - acc: 0.9874 - val_loss: 0.0350 - val_acc: 0.9889\n",
            "Epoch 58/225\n",
            "1234/1234 [==============================] - 61s 49ms/step - loss: 0.0345 - acc: 0.9887 - val_loss: 0.0397 - val_acc: 0.9870\n",
            "Epoch 59/225\n",
            "1234/1234 [==============================] - 62s 51ms/step - loss: 0.0358 - acc: 0.9883 - val_loss: 0.0359 - val_acc: 0.9884\n",
            "Epoch 60/225\n",
            "1234/1234 [==============================] - 63s 51ms/step - loss: 0.0345 - acc: 0.9889 - val_loss: 0.0369 - val_acc: 0.9880\n",
            "Epoch 61/225\n",
            "1234/1234 [==============================] - 63s 51ms/step - loss: 0.0314 - acc: 0.9897 - val_loss: 0.0363 - val_acc: 0.9882\n",
            "Epoch 62/225\n",
            "1234/1234 [==============================] - 60s 48ms/step - loss: 0.0309 - acc: 0.9898 - val_loss: 0.0371 - val_acc: 0.9879\n",
            "Epoch 63/225\n",
            "1234/1234 [==============================] - 62s 51ms/step - loss: 0.0297 - acc: 0.9902 - val_loss: 0.0375 - val_acc: 0.9877\n",
            "Epoch 64/225\n",
            "1234/1234 [==============================] - 61s 49ms/step - loss: 0.0350 - acc: 0.9888 - val_loss: 0.0318 - val_acc: 0.9898\n",
            "Epoch 65/225\n",
            "1234/1234 [==============================] - 61s 49ms/step - loss: 0.0271 - acc: 0.9912 - val_loss: 0.0304 - val_acc: 0.9903\n",
            "Epoch 66/225\n",
            "1234/1234 [==============================] - 61s 49ms/step - loss: 0.0267 - acc: 0.9913 - val_loss: 0.0351 - val_acc: 0.9885\n",
            "Epoch 67/225\n",
            "1234/1234 [==============================] - 61s 49ms/step - loss: 0.0323 - acc: 0.9897 - val_loss: 0.0339 - val_acc: 0.9891\n",
            "Epoch 68/225\n",
            "1234/1234 [==============================] - 60s 49ms/step - loss: 0.0240 - acc: 0.9923 - val_loss: 0.0259 - val_acc: 0.9919\n",
            "Epoch 69/225\n",
            "1234/1234 [==============================] - 60s 49ms/step - loss: 0.0248 - acc: 0.9919 - val_loss: 0.0281 - val_acc: 0.9911\n",
            "Epoch 70/225\n",
            "1234/1234 [==============================] - 63s 51ms/step - loss: 0.0244 - acc: 0.9920 - val_loss: 0.0269 - val_acc: 0.9914\n",
            "Epoch 71/225\n",
            "1234/1234 [==============================] - 63s 51ms/step - loss: 0.0242 - acc: 0.9920 - val_loss: 0.0252 - val_acc: 0.9920\n",
            "Epoch 72/225\n",
            "1234/1234 [==============================] - 61s 49ms/step - loss: 0.0252 - acc: 0.9919 - val_loss: 0.0246 - val_acc: 0.9922\n",
            "Epoch 73/225\n",
            "1234/1234 [==============================] - 62s 50ms/step - loss: 0.0216 - acc: 0.9929 - val_loss: 0.0272 - val_acc: 0.9913\n",
            "Epoch 74/225\n",
            "1234/1234 [==============================] - 60s 49ms/step - loss: 0.0217 - acc: 0.9929 - val_loss: 0.0262 - val_acc: 0.9916\n",
            "Epoch 75/225\n",
            "1234/1234 [==============================] - 60s 49ms/step - loss: 0.0230 - acc: 0.9925 - val_loss: 0.0257 - val_acc: 0.9918\n",
            "Epoch 76/225\n",
            "1234/1234 [==============================] - 63s 51ms/step - loss: 0.0215 - acc: 0.9930 - val_loss: 0.0249 - val_acc: 0.9921\n",
            "Epoch 77/225\n",
            "1234/1234 [==============================] - 60s 49ms/step - loss: 0.0205 - acc: 0.9934 - val_loss: 0.0242 - val_acc: 0.9924\n",
            "Epoch 78/225\n",
            "1234/1234 [==============================] - 63s 51ms/step - loss: 0.0200 - acc: 0.9935 - val_loss: 0.0220 - val_acc: 0.9931\n",
            "Epoch 79/225\n",
            "1234/1234 [==============================] - 60s 49ms/step - loss: 0.0222 - acc: 0.9928 - val_loss: 0.0216 - val_acc: 0.9932\n",
            "Epoch 80/225\n",
            "1234/1234 [==============================] - 61s 49ms/step - loss: 0.0189 - acc: 0.9939 - val_loss: 0.0258 - val_acc: 0.9917\n",
            "Epoch 81/225\n",
            "1234/1234 [==============================] - 63s 51ms/step - loss: 0.0186 - acc: 0.9939 - val_loss: 0.0214 - val_acc: 0.9932\n",
            "Epoch 82/225\n",
            "1234/1234 [==============================] - 61s 49ms/step - loss: 0.0182 - acc: 0.9941 - val_loss: 0.0201 - val_acc: 0.9938\n",
            "Epoch 83/225\n",
            "1234/1234 [==============================] - 60s 48ms/step - loss: 0.0182 - acc: 0.9940 - val_loss: 0.0208 - val_acc: 0.9934\n",
            "Epoch 84/225\n",
            "1234/1234 [==============================] - 63s 51ms/step - loss: 0.0176 - acc: 0.9942 - val_loss: 0.0244 - val_acc: 0.9922\n",
            "Epoch 85/225\n",
            "1234/1234 [==============================] - 60s 49ms/step - loss: 0.0172 - acc: 0.9944 - val_loss: 0.0234 - val_acc: 0.9926\n",
            "Epoch 86/225\n",
            "1234/1234 [==============================] - 63s 51ms/step - loss: 0.0167 - acc: 0.9945 - val_loss: 0.0206 - val_acc: 0.9935\n",
            "Epoch 87/225\n",
            "1234/1234 [==============================] - 60s 49ms/step - loss: 0.0172 - acc: 0.9944 - val_loss: 0.0187 - val_acc: 0.9942\n",
            "Epoch 88/225\n",
            "1234/1234 [==============================] - 60s 49ms/step - loss: 0.0167 - acc: 0.9946 - val_loss: 0.0174 - val_acc: 0.9946\n",
            "Epoch 89/225\n",
            "1234/1234 [==============================] - 63s 51ms/step - loss: 0.0181 - acc: 0.9942 - val_loss: 0.0249 - val_acc: 0.9920\n",
            "Epoch 90/225\n",
            "1234/1234 [==============================] - 63s 51ms/step - loss: 0.0148 - acc: 0.9952 - val_loss: 0.0177 - val_acc: 0.9945\n",
            "Epoch 91/225\n",
            "1234/1234 [==============================] - 61s 49ms/step - loss: 0.0151 - acc: 0.9951 - val_loss: 0.0215 - val_acc: 0.9932\n",
            "Epoch 92/225\n",
            "1234/1234 [==============================] - 60s 49ms/step - loss: 0.0162 - acc: 0.9949 - val_loss: 0.0183 - val_acc: 0.9943\n",
            "Epoch 93/225\n",
            "1234/1234 [==============================] - 60s 49ms/step - loss: 0.0149 - acc: 0.9952 - val_loss: 0.0183 - val_acc: 0.9943\n",
            "Epoch 94/225\n",
            "1234/1234 [==============================] - 63s 51ms/step - loss: 0.0158 - acc: 0.9950 - val_loss: 0.0186 - val_acc: 0.9942\n",
            "Epoch 95/225\n",
            "1234/1234 [==============================] - 60s 49ms/step - loss: 0.0162 - acc: 0.9950 - val_loss: 0.0168 - val_acc: 0.9948\n",
            "Epoch 96/225\n",
            "1234/1234 [==============================] - 60s 49ms/step - loss: 0.0134 - acc: 0.9957 - val_loss: 0.0167 - val_acc: 0.9948\n",
            "Epoch 97/225\n",
            "1234/1234 [==============================] - 60s 49ms/step - loss: 0.0132 - acc: 0.9957 - val_loss: 0.0182 - val_acc: 0.9944\n",
            "Epoch 98/225\n",
            "1234/1234 [==============================] - 61s 49ms/step - loss: 0.0148 - acc: 0.9952 - val_loss: 0.0189 - val_acc: 0.9941\n",
            "Epoch 99/225\n",
            "1234/1234 [==============================] - 62s 51ms/step - loss: 0.0135 - acc: 0.9956 - val_loss: 0.0188 - val_acc: 0.9941\n",
            "Epoch 100/225\n",
            "1234/1234 [==============================] - 61s 49ms/step - loss: 0.0130 - acc: 0.9958 - val_loss: 0.0169 - val_acc: 0.9948\n",
            "Epoch 101/225\n",
            "1234/1234 [==============================] - 61s 49ms/step - loss: 0.0135 - acc: 0.9956 - val_loss: 0.0177 - val_acc: 0.9945\n",
            "Epoch 102/225\n",
            "1234/1234 [==============================] - 61s 49ms/step - loss: 0.0124 - acc: 0.9959 - val_loss: 0.0165 - val_acc: 0.9949\n",
            "Epoch 103/225\n",
            "1234/1234 [==============================] - 63s 51ms/step - loss: 0.0125 - acc: 0.9959 - val_loss: 0.0152 - val_acc: 0.9954\n",
            "Epoch 104/225\n",
            "1234/1234 [==============================] - 61s 49ms/step - loss: 0.0150 - acc: 0.9955 - val_loss: 0.0178 - val_acc: 0.9945\n",
            "Epoch 105/225\n",
            "1234/1234 [==============================] - 64s 51ms/step - loss: 0.0161 - acc: 0.9952 - val_loss: 0.0390 - val_acc: 0.9870\n",
            "Epoch 106/225\n",
            "1234/1234 [==============================] - 61s 49ms/step - loss: 0.0171 - acc: 0.9950 - val_loss: 0.0138 - val_acc: 0.9959\n",
            "Epoch 107/225\n",
            "1234/1234 [==============================] - 63s 51ms/step - loss: 0.0094 - acc: 0.9971 - val_loss: 0.0146 - val_acc: 0.9956\n",
            "Epoch 108/225\n",
            "1234/1234 [==============================] - 61s 49ms/step - loss: 0.0114 - acc: 0.9963 - val_loss: 0.0155 - val_acc: 0.9953\n",
            "Epoch 109/225\n",
            "1234/1234 [==============================] - 63s 51ms/step - loss: 0.0120 - acc: 0.9961 - val_loss: 0.0152 - val_acc: 0.9954\n",
            "Epoch 110/225\n",
            "1234/1234 [==============================] - 61s 49ms/step - loss: 0.0137 - acc: 0.9957 - val_loss: 0.0256 - val_acc: 0.9917\n",
            "Epoch 111/225\n",
            "1234/1234 [==============================] - 62s 51ms/step - loss: 0.0101 - acc: 0.9968 - val_loss: 0.0150 - val_acc: 0.9954\n",
            "Epoch 112/225\n",
            "1234/1234 [==============================] - 64s 51ms/step - loss: 0.0106 - acc: 0.9965 - val_loss: 0.0169 - val_acc: 0.9948\n",
            "Epoch 113/225\n",
            "1234/1234 [==============================] - 61s 49ms/step - loss: 0.0119 - acc: 0.9961 - val_loss: 0.0388 - val_acc: 0.9887\n",
            "Epoch 114/225\n",
            "1234/1234 [==============================] - 61s 49ms/step - loss: 0.0106 - acc: 0.9966 - val_loss: 0.0148 - val_acc: 0.9955\n",
            "Epoch 115/225\n",
            "1234/1234 [==============================] - 63s 51ms/step - loss: 0.0146 - acc: 0.9958 - val_loss: 0.0122 - val_acc: 0.9964\n",
            "Epoch 116/225\n",
            "1234/1234 [==============================] - 63s 51ms/step - loss: 0.0085 - acc: 0.9973 - val_loss: 0.0135 - val_acc: 0.9960\n",
            "Epoch 117/225\n",
            "1234/1234 [==============================] - 63s 51ms/step - loss: 0.0103 - acc: 0.9966 - val_loss: 0.0147 - val_acc: 0.9955\n",
            "Epoch 118/225\n",
            "1234/1234 [==============================] - 61s 49ms/step - loss: 0.0130 - acc: 0.9959 - val_loss: 0.0160 - val_acc: 0.9950\n",
            "Epoch 119/225\n",
            "1234/1234 [==============================] - 63s 51ms/step - loss: 0.0082 - acc: 0.9974 - val_loss: 0.0693 - val_acc: 0.9823\n",
            "Epoch 120/225\n",
            "1234/1234 [==============================] - 61s 49ms/step - loss: 0.0099 - acc: 0.9969 - val_loss: 0.0124 - val_acc: 0.9963\n",
            "Epoch 121/225\n",
            "1234/1234 [==============================] - 63s 51ms/step - loss: 0.0094 - acc: 0.9969 - val_loss: 0.0133 - val_acc: 0.9960\n",
            "Epoch 122/225\n",
            "1234/1234 [==============================] - 60s 49ms/step - loss: 0.0141 - acc: 0.9959 - val_loss: 0.0131 - val_acc: 0.9961\n",
            "Epoch 123/225\n",
            "1234/1234 [==============================] - 61s 49ms/step - loss: 0.0077 - acc: 0.9976 - val_loss: 0.0132 - val_acc: 0.9960\n",
            "Epoch 124/225\n",
            "1234/1234 [==============================] - 61s 49ms/step - loss: 0.0091 - acc: 0.9971 - val_loss: 0.0137 - val_acc: 0.9959\n",
            "Epoch 125/225\n",
            "1234/1234 [==============================] - 60s 49ms/step - loss: 0.0104 - acc: 0.9968 - val_loss: 0.0140 - val_acc: 0.9958\n",
            "Epoch 126/225\n",
            "1234/1234 [==============================] - 61s 49ms/step - loss: 0.0098 - acc: 0.9969 - val_loss: 0.0117 - val_acc: 0.9966\n",
            "Epoch 127/225\n",
            "1234/1234 [==============================] - 60s 49ms/step - loss: 0.0077 - acc: 0.9975 - val_loss: 0.0122 - val_acc: 0.9964\n",
            "Epoch 128/225\n",
            "1234/1234 [==============================] - 63s 51ms/step - loss: 0.0097 - acc: 0.9970 - val_loss: 0.0127 - val_acc: 0.9962\n",
            "Epoch 129/225\n",
            "1234/1234 [==============================] - 63s 51ms/step - loss: 0.0100 - acc: 0.9969 - val_loss: 0.0108 - val_acc: 0.9968\n",
            "Epoch 130/225\n",
            "1234/1234 [==============================] - 63s 51ms/step - loss: 0.0072 - acc: 0.9977 - val_loss: 0.0133 - val_acc: 0.9960\n",
            "Epoch 131/225\n",
            "1234/1234 [==============================] - 61s 49ms/step - loss: 0.0091 - acc: 0.9971 - val_loss: 0.0158 - val_acc: 0.9952\n",
            "Epoch 132/225\n",
            "1234/1234 [==============================] - 60s 49ms/step - loss: 0.0082 - acc: 0.9974 - val_loss: 0.0118 - val_acc: 0.9966\n",
            "Epoch 133/225\n",
            "1234/1234 [==============================] - 60s 49ms/step - loss: 0.0083 - acc: 0.9974 - val_loss: 0.0134 - val_acc: 0.9960\n",
            "Epoch 134/225\n",
            "1234/1234 [==============================] - 61s 49ms/step - loss: 0.0096 - acc: 0.9970 - val_loss: 0.0117 - val_acc: 0.9965\n",
            "Epoch 135/225\n",
            "1234/1234 [==============================] - 60s 49ms/step - loss: 0.0073 - acc: 0.9976 - val_loss: 0.0153 - val_acc: 0.9954\n",
            "Epoch 136/225\n",
            "1234/1234 [==============================] - 60s 49ms/step - loss: 0.0081 - acc: 0.9974 - val_loss: 0.0118 - val_acc: 0.9966\n",
            "Epoch 137/225\n",
            "1234/1234 [==============================] - 61s 49ms/step - loss: 0.0083 - acc: 0.9974 - val_loss: 0.0113 - val_acc: 0.9967\n",
            "Epoch 138/225\n",
            "1234/1234 [==============================] - 61s 49ms/step - loss: 0.0072 - acc: 0.9976 - val_loss: 0.0125 - val_acc: 0.9963\n",
            "Epoch 139/225\n",
            "1234/1234 [==============================] - 60s 49ms/step - loss: 0.0103 - acc: 0.9969 - val_loss: 0.0119 - val_acc: 0.9965\n",
            "Epoch 140/225\n",
            "1234/1234 [==============================] - 63s 51ms/step - loss: 0.0056 - acc: 0.9982 - val_loss: 0.0124 - val_acc: 0.9964\n",
            "Epoch 141/225\n",
            "1234/1234 [==============================] - 60s 49ms/step - loss: 0.0073 - acc: 0.9976 - val_loss: 0.0198 - val_acc: 0.9939\n",
            "Epoch 142/225\n",
            "1234/1234 [==============================] - 63s 51ms/step - loss: 0.0084 - acc: 0.9973 - val_loss: 0.0217 - val_acc: 0.9931\n",
            "Epoch 143/225\n",
            "1234/1234 [==============================] - 64s 52ms/step - loss: 0.0067 - acc: 0.9979 - val_loss: 0.0115 - val_acc: 0.9967\n",
            "Epoch 144/225\n",
            "1234/1234 [==============================] - 63s 51ms/step - loss: 0.0152 - acc: 0.9959 - val_loss: 0.0154 - val_acc: 0.9953\n",
            "Epoch 145/225\n",
            "1234/1234 [==============================] - 60s 49ms/step - loss: 0.0053 - acc: 0.9984 - val_loss: 0.0109 - val_acc: 0.9968\n",
            "Epoch 146/225\n",
            "1234/1234 [==============================] - 64s 51ms/step - loss: 0.0064 - acc: 0.9979 - val_loss: 0.0113 - val_acc: 0.9967\n",
            "Epoch 147/225\n",
            "1234/1234 [==============================] - 63s 51ms/step - loss: 0.0112 - acc: 0.9966 - val_loss: 0.0102 - val_acc: 0.9970\n",
            "Epoch 148/225\n",
            "1234/1234 [==============================] - 61s 49ms/step - loss: 0.0059 - acc: 0.9982 - val_loss: 0.0108 - val_acc: 0.9968\n",
            "Epoch 149/225\n",
            "1234/1234 [==============================] - 61s 49ms/step - loss: 0.0075 - acc: 0.9978 - val_loss: 0.0093 - val_acc: 0.9974\n",
            "Epoch 150/225\n",
            "1234/1234 [==============================] - 63s 51ms/step - loss: 0.0051 - acc: 0.9984 - val_loss: 0.0119 - val_acc: 0.9965\n",
            "Epoch 151/225\n",
            "1234/1234 [==============================] - 60s 49ms/step - loss: 0.0088 - acc: 0.9972 - val_loss: 0.0147 - val_acc: 0.9955\n",
            "Epoch 152/225\n",
            "1234/1234 [==============================] - 63s 51ms/step - loss: 0.0239 - acc: 0.9937 - val_loss: 0.0113 - val_acc: 0.9967\n",
            "Epoch 153/225\n",
            "1234/1234 [==============================] - 63s 51ms/step - loss: 0.0059 - acc: 0.9982 - val_loss: 0.0107 - val_acc: 0.9969\n",
            "Epoch 154/225\n",
            "1234/1234 [==============================] - 60s 49ms/step - loss: 0.0077 - acc: 0.9976 - val_loss: 0.0105 - val_acc: 0.9970\n",
            "Epoch 155/225\n",
            "1234/1234 [==============================] - 61s 49ms/step - loss: 0.0053 - acc: 0.9983 - val_loss: 0.0100 - val_acc: 0.9971\n",
            "Epoch 156/225\n",
            "1234/1234 [==============================] - 61s 49ms/step - loss: 0.0070 - acc: 0.9979 - val_loss: 0.0111 - val_acc: 0.9968\n",
            "Epoch 157/225\n",
            "1234/1234 [==============================] - 61s 49ms/step - loss: 0.0080 - acc: 0.9976 - val_loss: 0.0095 - val_acc: 0.9973\n",
            "Epoch 158/225\n",
            "1234/1234 [==============================] - 63s 51ms/step - loss: 0.0052 - acc: 0.9983 - val_loss: 0.0111 - val_acc: 0.9968\n",
            "Epoch 159/225\n",
            "1234/1234 [==============================] - 63s 51ms/step - loss: 0.0098 - acc: 0.9971 - val_loss: 0.0116 - val_acc: 0.9966\n",
            "Epoch 160/225\n",
            "1234/1234 [==============================] - 63s 51ms/step - loss: 0.0043 - acc: 0.9987 - val_loss: 0.0109 - val_acc: 0.9969\n",
            "Epoch 161/225\n",
            "1234/1234 [==============================] - 63s 51ms/step - loss: 0.0066 - acc: 0.9980 - val_loss: 0.0110 - val_acc: 0.9968\n",
            "Epoch 162/225\n",
            "1234/1234 [==============================] - 64s 52ms/step - loss: 0.0068 - acc: 0.9978 - val_loss: 0.0128 - val_acc: 0.9962\n",
            "Epoch 163/225\n",
            "1234/1234 [==============================] - 63s 51ms/step - loss: 0.0062 - acc: 0.9980 - val_loss: 0.0109 - val_acc: 0.9968\n",
            "Epoch 164/225\n",
            "1234/1234 [==============================] - 60s 49ms/step - loss: 0.0051 - acc: 0.9984 - val_loss: 0.0114 - val_acc: 0.9967\n",
            "Epoch 165/225\n",
            "1234/1234 [==============================] - 63s 51ms/step - loss: 0.0082 - acc: 0.9978 - val_loss: 0.0083 - val_acc: 0.9977\n",
            "Epoch 166/225\n",
            "1234/1234 [==============================] - 61s 50ms/step - loss: 0.0046 - acc: 0.9985 - val_loss: 0.0100 - val_acc: 0.9971\n",
            "Epoch 167/225\n",
            "1234/1234 [==============================] - 63s 51ms/step - loss: 0.0068 - acc: 0.9978 - val_loss: 0.0098 - val_acc: 0.9972\n",
            "Epoch 168/225\n",
            "1234/1234 [==============================] - 61s 49ms/step - loss: 0.0050 - acc: 0.9984 - val_loss: 0.0127 - val_acc: 0.9963\n",
            "Epoch 169/225\n",
            "1234/1234 [==============================] - 63s 51ms/step - loss: 0.0094 - acc: 0.9975 - val_loss: 0.0084 - val_acc: 0.9977\n",
            "Epoch 170/225\n",
            "1234/1234 [==============================] - 63s 51ms/step - loss: 0.0043 - acc: 0.9986 - val_loss: 0.0103 - val_acc: 0.9970\n",
            "Epoch 171/225\n",
            "1234/1234 [==============================] - 63s 51ms/step - loss: 0.0070 - acc: 0.9978 - val_loss: 0.0085 - val_acc: 0.9976\n",
            "Epoch 172/225\n",
            "1234/1234 [==============================] - 61s 49ms/step - loss: 0.0041 - acc: 0.9987 - val_loss: 0.0102 - val_acc: 0.9971\n",
            "Epoch 173/225\n",
            "1234/1234 [==============================] - 61s 50ms/step - loss: 0.0060 - acc: 0.9981 - val_loss: 0.0109 - val_acc: 0.9969\n",
            "Epoch 174/225\n",
            "1234/1234 [==============================] - 61s 49ms/step - loss: 0.0064 - acc: 0.9981 - val_loss: 0.0099 - val_acc: 0.9972\n",
            "Epoch 175/225\n",
            "1234/1234 [==============================] - 60s 49ms/step - loss: 0.0050 - acc: 0.9984 - val_loss: 0.0092 - val_acc: 0.9974\n",
            "Epoch 176/225\n",
            "1234/1234 [==============================] - 61s 49ms/step - loss: 0.0054 - acc: 0.9983 - val_loss: 0.0100 - val_acc: 0.9972\n",
            "Epoch 177/225\n",
            "1234/1234 [==============================] - 60s 49ms/step - loss: 0.0057 - acc: 0.9982 - val_loss: 0.0083 - val_acc: 0.9977\n",
            "Epoch 178/225\n",
            "1234/1234 [==============================] - 60s 49ms/step - loss: 0.0047 - acc: 0.9985 - val_loss: 0.0096 - val_acc: 0.9973\n",
            "Epoch 179/225\n",
            "1234/1234 [==============================] - 60s 49ms/step - loss: 0.0067 - acc: 0.9979 - val_loss: 0.0086 - val_acc: 0.9976\n",
            "Epoch 180/225\n",
            "1234/1234 [==============================] - 63s 51ms/step - loss: 0.0038 - acc: 0.9988 - val_loss: 0.0099 - val_acc: 0.9972\n",
            "Epoch 181/225\n",
            "1234/1234 [==============================] - 61s 49ms/step - loss: 0.0052 - acc: 0.9984 - val_loss: 0.0101 - val_acc: 0.9971\n",
            "Epoch 182/225\n",
            "1234/1234 [==============================] - 61s 49ms/step - loss: 0.0051 - acc: 0.9983 - val_loss: 0.0114 - val_acc: 0.9967\n",
            "Epoch 183/225\n",
            "1234/1234 [==============================] - 63s 51ms/step - loss: 0.0068 - acc: 0.9979 - val_loss: 0.0081 - val_acc: 0.9978\n",
            "Epoch 184/225\n",
            "1234/1234 [==============================] - 64s 51ms/step - loss: 0.0036 - acc: 0.9989 - val_loss: 0.0107 - val_acc: 0.9969\n",
            "Epoch 185/225\n",
            "1234/1234 [==============================] - 64s 51ms/step - loss: 0.0051 - acc: 0.9983 - val_loss: 0.0126 - val_acc: 0.9963\n",
            "Epoch 186/225\n",
            "1234/1234 [==============================] - 63s 51ms/step - loss: 0.0095 - acc: 0.9973 - val_loss: 0.0107 - val_acc: 0.9969\n",
            "Epoch 187/225\n",
            "1234/1234 [==============================] - 61s 49ms/step - loss: 0.0030 - acc: 0.9991 - val_loss: 0.0085 - val_acc: 0.9977\n",
            "Epoch 188/225\n",
            "1234/1234 [==============================] - 61s 49ms/step - loss: 0.0040 - acc: 0.9987 - val_loss: 0.0106 - val_acc: 0.9970\n",
            "Epoch 189/225\n",
            "1234/1234 [==============================] - 64s 52ms/step - loss: 0.0052 - acc: 0.9983 - val_loss: 0.0093 - val_acc: 0.9974\n",
            "Epoch 190/225\n",
            "1234/1234 [==============================] - 64s 51ms/step - loss: 0.0222 - acc: 0.9947 - val_loss: 0.0109 - val_acc: 0.9968\n",
            "Epoch 191/225\n",
            "1234/1234 [==============================] - 63s 51ms/step - loss: 0.0044 - acc: 0.9986 - val_loss: 0.0084 - val_acc: 0.9976\n",
            "Epoch 192/225\n",
            "1234/1234 [==============================] - 60s 49ms/step - loss: 0.0046 - acc: 0.9986 - val_loss: 0.0083 - val_acc: 0.9977\n",
            "Epoch 193/225\n",
            "1234/1234 [==============================] - 64s 52ms/step - loss: 0.0039 - acc: 0.9987 - val_loss: 0.0102 - val_acc: 0.9971\n",
            "Epoch 194/225\n",
            "1234/1234 [==============================] - 61s 49ms/step - loss: 0.0058 - acc: 0.9984 - val_loss: 0.0088 - val_acc: 0.9975\n",
            "Epoch 195/225\n",
            "1234/1234 [==============================] - 63s 51ms/step - loss: 0.0036 - acc: 0.9988 - val_loss: 0.0087 - val_acc: 0.9976\n",
            "Epoch 196/225\n",
            "1234/1234 [==============================] - 61s 49ms/step - loss: 0.0047 - acc: 0.9984 - val_loss: 0.0100 - val_acc: 0.9972\n",
            "Epoch 197/225\n",
            "1234/1234 [==============================] - 61s 50ms/step - loss: 0.0045 - acc: 0.9986 - val_loss: 0.0108 - val_acc: 0.9969\n",
            "Epoch 198/225\n",
            "1234/1234 [==============================] - 64s 52ms/step - loss: 0.0046 - acc: 0.9985 - val_loss: 0.0096 - val_acc: 0.9973\n",
            "Epoch 199/225\n",
            "1234/1234 [==============================] - 63s 51ms/step - loss: 0.0079 - acc: 0.9979 - val_loss: 0.0069 - val_acc: 0.9981\n",
            "Epoch 200/225\n",
            "1234/1234 [==============================] - 63s 51ms/step - loss: 0.0026 - acc: 0.9992 - val_loss: 0.0094 - val_acc: 0.9974\n",
            "Epoch 201/225\n",
            "1234/1234 [==============================] - 63s 51ms/step - loss: 0.0042 - acc: 0.9986 - val_loss: 0.0089 - val_acc: 0.9975\n",
            "Epoch 202/225\n",
            "1234/1234 [==============================] - 61s 49ms/step - loss: 0.0057 - acc: 0.9984 - val_loss: 0.0073 - val_acc: 0.9981\n",
            "Epoch 203/225\n",
            "1234/1234 [==============================] - 64s 52ms/step - loss: 0.0031 - acc: 0.9990 - val_loss: 0.0091 - val_acc: 0.9975\n",
            "Epoch 204/225\n",
            "1234/1234 [==============================] - 60s 49ms/step - loss: 0.0059 - acc: 0.9981 - val_loss: 0.0080 - val_acc: 0.9978\n",
            "Epoch 205/225\n",
            "1234/1234 [==============================] - 63s 51ms/step - loss: 0.0044 - acc: 0.9988 - val_loss: 0.0069 - val_acc: 0.9982\n",
            "Epoch 206/225\n",
            "1234/1234 [==============================] - 63s 51ms/step - loss: 0.0030 - acc: 0.9991 - val_loss: 0.0086 - val_acc: 0.9976\n",
            "Epoch 207/225\n",
            "1234/1234 [==============================] - 61s 49ms/step - loss: 0.0040 - acc: 0.9987 - val_loss: 0.0100 - val_acc: 0.9972\n",
            "Epoch 208/225\n",
            "1234/1234 [==============================] - 61s 49ms/step - loss: 0.0044 - acc: 0.9986 - val_loss: 0.0111 - val_acc: 0.9969\n",
            "Epoch 209/225\n",
            "1234/1234 [==============================] - 63s 51ms/step - loss: 0.0042 - acc: 0.9987 - val_loss: 0.0091 - val_acc: 0.9975\n",
            "Epoch 210/225\n",
            "1234/1234 [==============================] - 63s 51ms/step - loss: 0.0040 - acc: 0.9987 - val_loss: 0.0087 - val_acc: 0.9977\n",
            "Epoch 211/225\n",
            "1234/1234 [==============================] - 63s 51ms/step - loss: 0.0043 - acc: 0.9986 - val_loss: 0.0091 - val_acc: 0.9975\n",
            "Epoch 212/225\n",
            "1234/1234 [==============================] - 61s 49ms/step - loss: 0.0045 - acc: 0.9988 - val_loss: 0.0073 - val_acc: 0.9981\n",
            "Epoch 213/225\n",
            "1234/1234 [==============================] - 61s 49ms/step - loss: 0.0036 - acc: 0.9988 - val_loss: 0.0082 - val_acc: 0.9978\n",
            "Epoch 214/225\n",
            "1234/1234 [==============================] - 61s 49ms/step - loss: 0.0065 - acc: 0.9983 - val_loss: 0.0072 - val_acc: 0.9981\n",
            "Epoch 215/225\n",
            "1234/1234 [==============================] - 61s 50ms/step - loss: 0.0029 - acc: 0.9991 - val_loss: 0.0090 - val_acc: 0.9975\n",
            "Epoch 216/225\n",
            "1234/1234 [==============================] - 60s 49ms/step - loss: 0.0039 - acc: 0.9987 - val_loss: 0.0091 - val_acc: 0.9975\n",
            "Epoch 217/225\n",
            "1234/1234 [==============================] - 61s 50ms/step - loss: 0.0052 - acc: 0.9984 - val_loss: 0.0087 - val_acc: 0.9976\n",
            "Epoch 218/225\n",
            "1234/1234 [==============================] - 61s 50ms/step - loss: 0.0029 - acc: 0.9991 - val_loss: 0.0086 - val_acc: 0.9977\n",
            "Epoch 219/225\n",
            "1234/1234 [==============================] - 63s 51ms/step - loss: 0.0050 - acc: 0.9985 - val_loss: 0.0074 - val_acc: 0.9981\n",
            "Epoch 220/225\n",
            "1234/1234 [==============================] - 60s 49ms/step - loss: 0.0025 - acc: 0.9992 - val_loss: 0.0091 - val_acc: 0.9975\n",
            "Epoch 221/225\n",
            "1234/1234 [==============================] - 64s 52ms/step - loss: 0.0039 - acc: 0.9987 - val_loss: 0.0085 - val_acc: 0.9977\n",
            "Epoch 222/225\n",
            "1234/1234 [==============================] - 61s 49ms/step - loss: 0.0037 - acc: 0.9988 - val_loss: 0.0104 - val_acc: 0.9971\n",
            "Epoch 223/225\n",
            "1234/1234 [==============================] - 64s 52ms/step - loss: 0.0059 - acc: 0.9983 - val_loss: 0.0072 - val_acc: 0.9981\n",
            "Epoch 224/225\n",
            "1234/1234 [==============================] - 61s 49ms/step - loss: 0.0023 - acc: 0.9993 - val_loss: 0.0092 - val_acc: 0.9975\n",
            "Epoch 225/225\n",
            "1234/1234 [==============================] - 61s 49ms/step - loss: 0.0039 - acc: 0.9987 - val_loss: 0.0098 - val_acc: 0.9973\n"
          ]
        }
      ]
    },
    {
      "cell_type": "code",
      "source": [
        "\n",
        "# plot the model loss and accuracy\n",
        "fig, (axis1, axis2) = plt.subplots(nrows=1, ncols=2, figsize=(16,6))\n",
        "\n",
        "# summarize history for accuracy\n",
        "axis1.plot(history.history[\"acc\"], label='Train', linewidth=3)\n",
        "axis1.plot(history.history[\"val_acc\"], label='Validation', linewidth=3)\n",
        "axis1.set_title('Model accuracy', fontsize=16, color=\"white\")\n",
        "axis1.set_ylabel('accuracy')\n",
        "axis1.set_xlabel('epoch')\n",
        "axis1.legend(loc='lower right')\n",
        "\n",
        "# summarize history for loss\n",
        "axis2.plot(history.history[\"loss\"], label='Train', linewidth=3)\n",
        "axis2.plot(history.history[\"val_loss\"], label='Validation', linewidth=3)\n",
        "axis2.set_title('Model loss', fontsize=16, color=\"white\")\n",
        "axis2.set_ylabel('loss')\n",
        "axis2.set_xlabel('epoch')\n",
        "axis2.legend(loc='upper right')\n",
        "plt.show()\n",
        ""
      ],
      "metadata": {
        "id": "sKPIswIaChmf",
        "colab": {
          "base_uri": "https://localhost:8080/",
          "height": 566
        },
        "outputId": "c18513e1-1c4e-4847-91ca-899c9cc48637"
      },
      "execution_count": null,
      "outputs": [
        {
          "output_type": "display_data",
          "data": {
            "text/plain": [
              "<Figure size 1600x600 with 2 Axes>"
            ],
            "image/png": "[encoded data removed]"
          },
          "metadata": {}
        }
      ]
    },
    {
      "cell_type": "code",
      "source": [
        "# evaluate our test set\n",
        "score, acc = model.evaluate([X_test, X_test], y_test, batch_size=batch_size, verbose=0)\n",
        "print(f'Test score: {score}')\n",
        "print(f'Test accuracy: {acc}')\n",
        ""
      ],
      "metadata": {
        "id": "g75U5HbgwhZO",
        "colab": {
          "base_uri": "https://localhost:8080/"
        },
        "outputId": "8f6d84fe-8aee-46f2-8a96-ba0f0f31ad17"
      },
      "execution_count": null,
      "outputs": [
        {
          "output_type": "stream",
          "name": "stdout",
          "text": [
            "Test score: 0.009705641306936741\n",
            "Test accuracy: 0.9973312616348267\n"
          ]
        }
      ]
    },
    {
      "cell_type": "code",
      "source": [
        "\n",
        "# save our baseline training model & weights\n",
        "mod_file = '/drive/My Drive/chem_data/LSTM_model.h5'\n",
        "model.save(mod_file)\n",
        "print(\"Model Saved\")\n",
        ""
      ],
      "metadata": {
        "id": "VNMzaiVeOJK3",
        "colab": {
          "base_uri": "https://localhost:8080/"
        },
        "outputId": "886403a9-8c70-4dcf-d43a-22b275212eb8"
      },
      "execution_count": null,
      "outputs": [
        {
          "output_type": "stream",
          "name": "stdout",
          "text": [
            "Model Saved\n"
          ]
        }
      ]
    },
    {
      "cell_type": "code",
      "source": [],
      "metadata": {
        "id": "wvVOkNnYwX0b"
      },
      "execution_count": null,
      "outputs": []
    }
  ]
}